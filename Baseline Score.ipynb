{
 "cells": [
  {
   "cell_type": "code",
   "execution_count": 1,
   "id": "5c85fb2c",
   "metadata": {
    "ExecuteTime": {
     "end_time": "2023-03-06T15:12:30.151051Z",
     "start_time": "2023-03-06T15:12:30.121747Z"
    }
   },
   "outputs": [],
   "source": [
    "%load_ext autoreload\n",
    "%autoreload 2"
   ]
  },
  {
   "cell_type": "code",
   "execution_count": 34,
   "id": "bb199601",
   "metadata": {
    "ExecuteTime": {
     "end_time": "2023-03-06T15:19:17.594891Z",
     "start_time": "2023-03-06T15:19:17.395063Z"
    }
   },
   "outputs": [],
   "source": [
    "import numpy as np\n",
    "from utils.params import *\n",
    "import glob"
   ]
  },
  {
   "cell_type": "code",
   "execution_count": 27,
   "id": "9063b0c8",
   "metadata": {
    "ExecuteTime": {
     "end_time": "2023-03-06T15:21:39.968916Z",
     "start_time": "2023-03-06T15:21:39.713312Z"
    }
   },
   "outputs": [
    {
     "name": "stdout",
     "output_type": "stream",
     "text": [
      "/home/elise/code/OriLmd/flood_project/train/train\n"
     ]
    }
   ],
   "source": [
    "print(TRAIN_FOLDER_PATH)"
   ]
  },
  {
   "cell_type": "code",
   "execution_count": 28,
   "id": "7162bade",
   "metadata": {},
   "outputs": [],
   "source": [
    "files_name=os.listdir(TRAIN_FOLDER_PATH)"
   ]
  },
  {
   "cell_type": "code",
   "execution_count": 29,
   "id": "2ea4cb1e",
   "metadata": {},
   "outputs": [],
   "source": [
    "files=[]\n",
    "images=[]\n",
    "for folder in files_name:\n",
    "    # récup les water_body_level\n",
    "    path = os.path.join(TRAIN_FOLDER_PATH, folder, \"tiles\",\"water_body_label\")\n",
    "    files.append(sorted(file for file in glob.glob(path)))\n",
    "    images.append(cv2.imread(file) for file in files)\n",
    "    \n",
    " "
   ]
  },
  {
   "cell_type": "code",
   "execution_count": 36,
   "id": "93fdf8c5",
   "metadata": {},
   "outputs": [
    {
     "data": {
      "text/plain": [
       "[['/home/elise/code/OriLmd/flood_project/train/train/nebraska_20171222t002118/tiles/water_body_label'],\n",
       " ['/home/elise/code/OriLmd/flood_project/train/train/northal_20190525t234653/tiles/water_body_label'],\n",
       " ['/home/elise/code/OriLmd/flood_project/train/train/bangladesh_20170606t115613/tiles/water_body_label'],\n",
       " ['/home/elise/code/OriLmd/flood_project/train/train/nebraska_20170601t002114/tiles/water_body_label'],\n",
       " ['/home/elise/code/OriLmd/flood_project/train/train/northal_20190407t234651/tiles/water_body_label'],\n",
       " ['/home/elise/code/OriLmd/flood_project/train/train/nebraska_20170108t002112/tiles/water_body_label'],\n",
       " ['/home/elise/code/OriLmd/flood_project/train/train/northal_20191121t234700/tiles/water_body_label'],\n",
       " ['/home/elise/code/OriLmd/flood_project/train/train/northal_20190724t234657/tiles/water_body_label'],\n",
       " ['/home/elise/code/OriLmd/flood_project/train/train/northal_20190712t234656/tiles/water_body_label'],\n",
       " ['/home/elise/code/OriLmd/flood_project/train/train/northal_20190910t234659/tiles/water_body_label'],\n",
       " ['/home/elise/code/OriLmd/flood_project/train/train/nebraska_20170508t002113/tiles/water_body_label'],\n",
       " ['/home/elise/code/OriLmd/flood_project/train/train/northal_20190513t234653/tiles/water_body_label'],\n",
       " ['/home/elise/code/OriLmd/flood_project/train/train/nebraska_20170929t002120/tiles/water_body_label'],\n",
       " ['/home/elise/code/OriLmd/flood_project/train/train/northal_20191227t234659/tiles/water_body_label'],\n",
       " ['/home/elise/code/OriLmd/flood_project/train/train/northal_20190630t234655/tiles/water_body_label'],\n",
       " ['/home/elise/code/OriLmd/flood_project/train/train/nebraska_20170402t002111/tiles/water_body_label'],\n",
       " ['/home/elise/code/OriLmd/flood_project/train/train/nebraska_20170520t002113/tiles/water_body_label'],\n",
       " ['/home/elise/code/OriLmd/flood_project/train/train/nebraska_20171116t002120/tiles/water_body_label'],\n",
       " ['/home/elise/code/OriLmd/flood_project/train/train/nebraska_20170731t002118/tiles/water_body_label'],\n",
       " ['/home/elise/code/OriLmd/flood_project/train/train/northal_20190618t234654/tiles/water_body_label'],\n",
       " ['/home/elise/code/OriLmd/flood_project/train/train/bangladesh_20170314t115609/tiles/water_body_label'],\n",
       " ['/home/elise/code/OriLmd/flood_project/train/train/nebraska_20171210t002119/tiles/water_body_label'],\n",
       " ['/home/elise/code/OriLmd/flood_project/train/train/northal_20190302t234651/tiles/water_body_label'],\n",
       " ['/home/elise/code/OriLmd/flood_project/train/train/northal_20190419t234652/tiles/water_body_label'],\n",
       " ['/home/elise/code/OriLmd/flood_project/train/train/bangladesh_20170712t115615/tiles/water_body_label'],\n",
       " ['/home/elise/code/OriLmd/flood_project/train/train/northal_20191004t234700/tiles/water_body_label'],\n",
       " ['/home/elise/code/OriLmd/flood_project/train/train/northal_20190606t234654/tiles/water_body_label'],\n",
       " ['/home/elise/code/OriLmd/flood_project/train/train/northal_20190805t234658/tiles/water_body_label'],\n",
       " ['/home/elise/code/OriLmd/flood_project/train/train/nebraska_20170213t002121/tiles/water_body_label'],\n",
       " ['/home/elise/code/OriLmd/flood_project/train/train/nebraska_20170309t002110/tiles/water_body_label'],\n",
       " ['/home/elise/code/OriLmd/flood_project/train/train/northal_20190829t234659/tiles/water_body_label']]"
      ]
     },
     "execution_count": 36,
     "metadata": {},
     "output_type": "execute_result"
    }
   ],
   "source": [
    "files"
   ]
  },
  {
   "cell_type": "code",
   "execution_count": 35,
   "id": "20d05f9b",
   "metadata": {},
   "outputs": [
    {
     "name": "stdout",
     "output_type": "stream",
     "text": [
      "Number of white pixels: 0\n"
     ]
    }
   ],
   "source": [
    "n_white_pix\n",
    "for file in files:\n",
    "    for image in file:\n",
    "        n_white_pix = np.sum(image == 255)\n",
    "    print('Number of white pixels:', n_white_pix)"
   ]
  },
  {
   "cell_type": "code",
   "execution_count": null,
   "id": "9bab6885",
   "metadata": {},
   "outputs": [],
   "source": []
  }
 ],
 "metadata": {
  "kernelspec": {
   "display_name": "Python 3 (ipykernel)",
   "language": "python",
   "name": "python3"
  },
  "language_info": {
   "codemirror_mode": {
    "name": "ipython",
    "version": 3
   },
   "file_extension": ".py",
   "mimetype": "text/x-python",
   "name": "python",
   "nbconvert_exporter": "python",
   "pygments_lexer": "ipython3",
   "version": "3.10.6"
  },
  "toc": {
   "base_numbering": 1,
   "nav_menu": {},
   "number_sections": true,
   "sideBar": true,
   "skip_h1_title": false,
   "title_cell": "Table of Contents",
   "title_sidebar": "Contents",
   "toc_cell": false,
   "toc_position": {},
   "toc_section_display": true,
   "toc_window_display": false
  }
 },
 "nbformat": 4,
 "nbformat_minor": 5
}
